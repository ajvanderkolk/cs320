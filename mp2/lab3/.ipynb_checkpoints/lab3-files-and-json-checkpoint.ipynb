{
 "cells": [
  {
   "cell_type": "code",
   "execution_count": 6,
   "id": "6a841e2c-868a-4c59-9f08-c15b33ff51cf",
   "metadata": {},
   "outputs": [],
   "source": [
    "# Writing\n",
    "f = open(\"file.txt\", 'w')\n",
    "f.write(\"line_1\\n\")\n",
    "f.write(\"line_2\")\n",
    "f.close()"
   ]
  },
  {
   "cell_type": "code",
   "execution_count": 17,
   "id": "d3d5a2cc-35bb-4b54-a975-f89266459eeb",
   "metadata": {},
   "outputs": [
    {
     "name": "stdout",
     "output_type": "stream",
     "text": [
      "<class 'str'>\n",
      "{\n",
      "    \"name\": \"Fido\",\n",
      "    \"age\": 1\n",
      "}\n",
      "\n",
      "<class 'str'>\n",
      "\n",
      "LINE: {\n",
      "LINE:     \"name\": \"Fido\",\n",
      "LINE:     \"age\": 1\n",
      "LINE: }\n",
      "GOT 4 lines\n"
     ]
    }
   ],
   "source": [
    "# Reading\n",
    "f = open(\"dog.json\")\n",
    "input1 = f.read()\n",
    "input2 = f.read()\n",
    "f.close()\n",
    "\n",
    "print(type(input1)) # str\n",
    "print(input1)\n",
    "print(type(input2)) # str\n",
    "print(input2)\n",
    "\n",
    "f = open(\"dog.json\")\n",
    "for line in f:\n",
    "    print(\"LINE: \" + line, end=\"\")\n",
    "f.close()\n",
    "\n",
    "f = open(\"dog.json\")\n",
    "lines = list(f)\n",
    "f.close()\n",
    "\n",
    "print(\"GOT\", len(lines), \"lines\")\n"
   ]
  },
  {
   "cell_type": "code",
   "execution_count": 18,
   "id": "d09dfdae-ff6f-4b7f-b61e-35ad3434f060",
   "metadata": {},
   "outputs": [],
   "source": [
    "# With\n",
    "\"\"\"\n",
    "f = open(\"dog.json\")\n",
    "lines = list(f)\n",
    "f.close()\n",
    "\"\"\"\n",
    "# the above is equivalent to the below.\n",
    "with open(\"dog.json\") as f:\n",
    "    lines = list(f)"
   ]
  },
  {
   "cell_type": "code",
   "execution_count": 26,
   "id": "96394c05-3920-463a-b219-a63c011b77c8",
   "metadata": {},
   "outputs": [
    {
     "name": "stdout",
     "output_type": "stream",
     "text": [
      "<class 'dict'>\n",
      "<class 'dict'>\n",
      "<class 'dict'>\n"
     ]
    }
   ],
   "source": [
    "# JSON\n",
    "\"\"\"\n",
    "data may be in the following formsL\n",
    "1. a file object\n",
    "2. a string\n",
    "3. a dict (or other Python data type)\n",
    "\n",
    "json.load converts from (1) to (3).. json.loads converts from (2) to (3). Fix the following code so it uses the appropriate load function:\n",
    "\"\"\"\n",
    "\n",
    "import json \n",
    "with open(\"dog.json\") as f:\n",
    "          dog = json.load(f)\n",
    "print(type(dog)) # dict\n",
    "\n",
    "data = '{\"name\": \"Fido\", \"age\":1}'\n",
    "dog = json.loads(data)\n",
    "print(type(dog)) # dict\n",
    "\n",
    "with open(\"dog.json\") as f:\n",
    "    data = f.read()\n",
    "    dog = json.loads(data) # use loads because f.read() converts the file object to a string.\n",
    "print(type(dog)) # dict"
   ]
  },
  {
   "cell_type": "code",
   "execution_count": null,
   "id": "0495b62e-af79-49c7-92f1-4f78f0db0b3c",
   "metadata": {},
   "outputs": [],
   "source": []
  }
 ],
 "metadata": {
  "kernelspec": {
   "display_name": "Python 3 (ipykernel)",
   "language": "python",
   "name": "python3"
  },
  "language_info": {
   "codemirror_mode": {
    "name": "ipython",
    "version": 3
   },
   "file_extension": ".py",
   "mimetype": "text/x-python",
   "name": "python",
   "nbconvert_exporter": "python",
   "pygments_lexer": "ipython3",
   "version": "3.10.12"
  }
 },
 "nbformat": 4,
 "nbformat_minor": 5
}
