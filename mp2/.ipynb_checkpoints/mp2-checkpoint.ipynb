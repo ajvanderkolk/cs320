{
 "cells": [
  {
   "cell_type": "code",
   "execution_count": 1,
   "id": "97c320af-7219-47cd-8a94-dcc35df25669",
   "metadata": {},
   "outputs": [],
   "source": [
    "%load_ext autoreload\n",
    "%autoreload 2"
   ]
  },
  {
   "cell_type": "code",
   "execution_count": 2,
   "id": "97a7d4cf-68c0-4f3d-8599-8789770829ad",
   "metadata": {},
   "outputs": [],
   "source": [
    "import loans\n",
    "import search\n",
    "\n",
    "import pandas as pd\n",
    "import csv\n",
    "from subprocess import check_output\n",
    "import json\n",
    "import time\n",
    "import numpy as np\n",
    "\n",
    "import zipfile\n",
    "from io import TextIOWrapper"
   ]
  },
  {
   "cell_type": "code",
   "execution_count": 3,
   "id": "277e2918-bd20-484e-97ee-8725edd2b1de",
   "metadata": {},
   "outputs": [],
   "source": [
    "# 1 Lab3 - Applicant Class"
   ]
  },
  {
   "cell_type": "code",
   "execution_count": 4,
   "id": "523a9f5f-4a52-434b-9162-31f2ec72538e",
   "metadata": {},
   "outputs": [
    {
     "data": {
      "text/plain": [
       "{'American Indian or Alaska Native', 'Asian', 'Black or African American'}"
      ]
     },
     "execution_count": 4,
     "metadata": {},
     "output_type": "execute_result"
    }
   ],
   "source": [
    "applicant = loans.Applicant(\"20-30\", [\"1\", \"2\", \"3\"])\n",
    "applicant.race"
   ]
  },
  {
   "cell_type": "code",
   "execution_count": 5,
   "id": "842d8f9d-9bb7-4b36-a019-8103fd792520",
   "metadata": {},
   "outputs": [
    {
     "data": {
      "text/plain": [
       "Applicant('20-30', ['American Indian or Alaska Native', 'Asian', 'Black or African American'])"
      ]
     },
     "execution_count": 5,
     "metadata": {},
     "output_type": "execute_result"
    }
   ],
   "source": [
    "applicant"
   ]
  },
  {
   "cell_type": "code",
   "execution_count": 6,
   "id": "f45ea52f-9cda-4b86-a504-ef07fe3989ea",
   "metadata": {},
   "outputs": [
    {
     "data": {
      "text/plain": [
       "20"
      ]
     },
     "execution_count": 6,
     "metadata": {},
     "output_type": "execute_result"
    }
   ],
   "source": [
    "applicant.lower_age()"
   ]
  },
  {
   "cell_type": "code",
   "execution_count": 7,
   "id": "9a13f0c7-39f8-4d19-ace3-066ef6cab0a4",
   "metadata": {},
   "outputs": [
    {
     "data": {
      "text/plain": [
       "[Applicant('20-30', ['American Indian or Alaska Native', 'Black or African American']),\n",
       " Applicant('<25', ['White']),\n",
       " Applicant('35-44', ['Chinese']),\n",
       " Applicant('>75', ['Other Pacific Islander', 'Samoan'])]"
      ]
     },
     "execution_count": 7,
     "metadata": {},
     "output_type": "execute_result"
    }
   ],
   "source": [
    "sorted([\n",
    "    loans.Applicant(\">75\", [\"43\", \"44\"]),\n",
    "    loans.Applicant(\"20-30\", [\"1\", \"3\"]),\n",
    "    loans.Applicant(\"35-44\", [\"22\"]),\n",
    "    loans.Applicant(\"<25\", [\"5\"]),\n",
    "])"
   ]
  },
  {
   "cell_type": "code",
   "execution_count": 8,
   "id": "433918fc-32ba-401a-8b7d-379066b1e97d",
   "metadata": {},
   "outputs": [],
   "source": [
    "# 2 Lab3 - Loan Class"
   ]
  },
  {
   "cell_type": "code",
   "execution_count": 9,
   "id": "e3fb5c87-163c-4853-81ca-738c19514f43",
   "metadata": {},
   "outputs": [],
   "source": [
    "values = {'activity_year': '2021', \n",
    "          'lei': '549300Q76VHK6FGPX546', \n",
    "          'derived_msa-md': '24580', \n",
    "          'state_code': 'WI',\n",
    "          'county_code': '55009', \n",
    "          'census_tract': '55009020702', \n",
    "          'conforming_loan_limit': 'C', \n",
    "          'derived_loan_product_type': 'Conventional:First Lien', \n",
    "          'derived_dwelling_category': 'Single Family (1-4 Units):Site-Built', \n",
    "          'derived_ethnicity': 'Not Hispanic or Latino', \n",
    "          'derived_race': 'White', \n",
    "          'derived_sex': 'Joint', \n",
    "          'action_taken': '1', \n",
    "          'purchaser_type': '1', \n",
    "          'preapproval': '2', \n",
    "          'loan_type': '1', \n",
    "          'loan_purpose': '31', \n",
    "          'lien_status': '1', \n",
    "          'reverse_mortgage': '2', \n",
    "          'open-end_line_of_credit': '2', \n",
    "          'business_or_commercial_purpose': '2', \n",
    "          'loan_amount': '325000.0', \n",
    "          'loan_to_value_ratio': '73.409', \n",
    "          'interest_rate': '2.5', \n",
    "          'rate_spread': '0.304', \n",
    "          'hoepa_status': '2', \n",
    "          'total_loan_costs': '3932.75', \n",
    "          'total_points_and_fees': 'NA', \n",
    "          'origination_charges': '3117.5', \n",
    "          'discount_points': '', \n",
    "          'lender_credits': '', \n",
    "          'loan_term': '240', \n",
    "          'prepayment_penalty_term': 'NA', \n",
    "          'intro_rate_period': 'NA', \n",
    "          'negative_amortization': '2', \n",
    "          'interest_only_payment': '2', \n",
    "          'balloon_payment': '2', \n",
    "          'other_nonamortizing_features': '2', \n",
    "          'property_value': '445000', \n",
    "          'construction_method': '1', \n",
    "          'occupancy_type': '1', \n",
    "          'manufactured_home_secured_property_type': '3', \n",
    "          'manufactured_home_land_property_interest': '5', \n",
    "          'total_units': '1', \n",
    "          'multifamily_affordable_units': 'NA', \n",
    "          'income': '264', \n",
    "          'debt_to_income_ratio': '20%-<30%', \n",
    "          'applicant_credit_score_type': '2', \n",
    "          'co-applicant_credit_score_type': '9', \n",
    "          'applicant_ethnicity-1': '2', \n",
    "          'applicant_ethnicity-2': '', \n",
    "          'applicant_ethnicity-3': '', \n",
    "          'applicant_ethnicity-4': '', \n",
    "          'applicant_ethnicity-5': '', \n",
    "          'co-applicant_ethnicity-1': '2', \n",
    "          'co-applicant_ethnicity-2': '', \n",
    "          'co-applicant_ethnicity-3': '', \n",
    "          'co-applicant_ethnicity-4': '', \n",
    "          'co-applicant_ethnicity-5': '', \n",
    "          'applicant_ethnicity_observed': '2', \n",
    "          'co-applicant_ethnicity_observed': '2', \n",
    "          'applicant_race-1': '5', \n",
    "          'applicant_race-2': '', \n",
    "          'applicant_race-3': '', \n",
    "          'applicant_race-4': '', \n",
    "          'applicant_race-5': '', \n",
    "          'co-applicant_race-1': '5', \n",
    "          'co-applicant_race-2': '', \n",
    "          'co-applicant_race-3': '', \n",
    "          'co-applicant_race-4': '', \n",
    "          'co-applicant_race-5': '', \n",
    "          'applicant_race_observed': '2', \n",
    "          'co-applicant_race_observed': '2', \n",
    "          'applicant_sex': '1', \n",
    "          'co-applicant_sex': '2', \n",
    "          'applicant_sex_observed': '2', \n",
    "          'co-applicant_sex_observed': '2', \n",
    "          'applicant_age': '35-44', \n",
    "          'co-applicant_age': '35-44', \n",
    "          'applicant_age_above_62': 'No', \n",
    "          'co-applicant_age_above_62': 'No', \n",
    "          'submission_of_application': '1', \n",
    "          'initially_payable_to_institution': '1', \n",
    "          'aus-1': '1', \n",
    "          'aus-2': '', \n",
    "          'aus-3': '', \n",
    "          'aus-4': '', \n",
    "          'aus-5': '', \n",
    "          'denial_reason-1': '10', \n",
    "          'denial_reason-2': '', \n",
    "          'denial_reason-3': '', \n",
    "          'denial_reason-4': '', \n",
    "          'tract_population': '6839', \n",
    "          'tract_minority_population_percent': '8.85999999999999943', \n",
    "          'ffiec_msa_md_median_family_income': '80100', \n",
    "          'tract_to_msa_income_percentage': '150', \n",
    "          'tract_owner_occupied_units': '1701', \n",
    "          'tract_one_to_four_family_homes': '2056', \n",
    "          'tract_median_age_of_housing_units': '15'}"
   ]
  },
  {
   "cell_type": "code",
   "execution_count": 10,
   "id": "1b64ec02-5497-4a5e-95f1-a2100bf9a351",
   "metadata": {},
   "outputs": [],
   "source": [
    "loan = loans.Loan(values)"
   ]
  },
  {
   "cell_type": "code",
   "execution_count": 11,
   "id": "4c5c67a4-fcf7-4a3c-a36d-ae2ae122fa3b",
   "metadata": {},
   "outputs": [
    {
     "data": {
      "text/plain": [
       "2.5"
      ]
     },
     "execution_count": 11,
     "metadata": {},
     "output_type": "execute_result"
    }
   ],
   "source": [
    "loan.interest_rate"
   ]
  },
  {
   "cell_type": "code",
   "execution_count": 12,
   "id": "c81586fe-206d-4edb-9d8f-8512f95d87ce",
   "metadata": {},
   "outputs": [
    {
     "data": {
      "text/plain": [
       "[Applicant('35-44', ['White']), Applicant('35-44', ['White'])]"
      ]
     },
     "execution_count": 12,
     "metadata": {},
     "output_type": "execute_result"
    }
   ],
   "source": [
    "loan.applicants"
   ]
  },
  {
   "cell_type": "code",
   "execution_count": 13,
   "id": "64696cf5-7b1c-41e5-8722-7398db6b514f",
   "metadata": {},
   "outputs": [
    {
     "data": {
      "text/plain": [
       "445000.0"
      ]
     },
     "execution_count": 13,
     "metadata": {},
     "output_type": "execute_result"
    }
   ],
   "source": [
    "loan.property_value"
   ]
  },
  {
   "cell_type": "code",
   "execution_count": 14,
   "id": "83447ff1-e49d-495d-8e02-e765a0a3ffcb",
   "metadata": {},
   "outputs": [
    {
     "data": {
      "text/plain": [
       "325000.0"
      ]
     },
     "execution_count": 14,
     "metadata": {},
     "output_type": "execute_result"
    }
   ],
   "source": [
    "loan.loan_amount"
   ]
  },
  {
   "cell_type": "code",
   "execution_count": 15,
   "id": "92b5255f-20a9-48f2-ab85-ceda05faa518",
   "metadata": {},
   "outputs": [
    {
     "name": "stdout",
     "output_type": "stream",
     "text": [
      "<Loan: 2.5% on $325000.0 with 2 applicant(s)>\n"
     ]
    },
    {
     "data": {
      "text/plain": [
       "<Loan: 2.5% on $325000.0 with 2 applicant(s)>"
      ]
     },
     "execution_count": 15,
     "metadata": {},
     "output_type": "execute_result"
    }
   ],
   "source": [
    "print(loan)\n",
    "loan"
   ]
  },
  {
   "cell_type": "code",
   "execution_count": 16,
   "id": "f13aca5f-29aa-4004-b418-54d13be07cfb",
   "metadata": {},
   "outputs": [
    {
     "name": "stdout",
     "output_type": "stream",
     "text": [
      "325000.0\n",
      "253125.0\n",
      "179453.12499999997\n",
      "103939.45312499994\n",
      "26537.939453124927\n"
     ]
    }
   ],
   "source": [
    "for amt in loan.yearly_amounts(80000):\n",
    "    print(amt)"
   ]
  },
  {
   "cell_type": "code",
   "execution_count": 17,
   "id": "8207f68e-bedc-4756-98fa-bcd1242a780d",
   "metadata": {},
   "outputs": [],
   "source": [
    "lcu = loans.Bank(\"Landmark Credit Union\")\n",
    "#lcu.name"
   ]
  },
  {
   "cell_type": "code",
   "execution_count": 18,
   "id": "377405af-1039-49e5-bb91-8180cccc7584",
   "metadata": {},
   "outputs": [
    {
     "data": {
      "text/plain": [
       "'549300KY533JFETOYG46'"
      ]
     },
     "execution_count": 18,
     "metadata": {},
     "output_type": "execute_result"
    }
   ],
   "source": [
    "lcu.lei"
   ]
  },
  {
   "cell_type": "code",
   "execution_count": 19,
   "id": "cbc12acd-e31d-44cb-834e-ea534c62682c",
   "metadata": {},
   "outputs": [],
   "source": [
    "#print(lcu)\n",
    "#lcu"
   ]
  },
  {
   "cell_type": "code",
   "execution_count": 20,
   "id": "862b7a56-b782-44c1-9bcf-8d6f3515656c",
   "metadata": {},
   "outputs": [
    {
     "name": "stdout",
     "output_type": "stream",
     "text": [
      "<Loan: 2.875% on $305000.0 with 1 applicant(s)>\n"
     ]
    }
   ],
   "source": [
    "print(lcu.loan_list[-1])"
   ]
  },
  {
   "cell_type": "code",
   "execution_count": 21,
   "id": "a9584616-95dd-4a43-9328-6f0181b87c54",
   "metadata": {},
   "outputs": [
    {
     "name": "stdout",
     "output_type": "stream",
     "text": [
      "17632\n"
     ]
    }
   ],
   "source": [
    "print(len(lcu.loan_list))"
   ]
  },
  {
   "cell_type": "code",
   "execution_count": 22,
   "id": "15eada18-b5c5-4ed4-a084-985872b9654d",
   "metadata": {},
   "outputs": [
    {
     "data": {
      "text/plain": [
       "<Loan: 2.875% on $305000.0 with 1 applicant(s)>"
      ]
     },
     "execution_count": 22,
     "metadata": {},
     "output_type": "execute_result"
    }
   ],
   "source": [
    "lcu[-1]"
   ]
  },
  {
   "cell_type": "code",
   "execution_count": 23,
   "id": "7fc61f84-ca7c-4204-8900-e5b605f12627",
   "metadata": {},
   "outputs": [
    {
     "data": {
      "text/plain": [
       "17632"
      ]
     },
     "execution_count": 23,
     "metadata": {},
     "output_type": "execute_result"
    }
   ],
   "source": [
    "len(lcu)"
   ]
  },
  {
   "cell_type": "code",
   "execution_count": 24,
   "id": "ce691751-b527-470b-a7b8-f2e5657b47de",
   "metadata": {},
   "outputs": [
    {
     "name": "stdout",
     "output_type": "stream",
     "text": [
      "<search.BST object at 0x7d2d43c7f2e0>\n",
      "[2]\n",
      "[1, 4]\n",
      "[3]\n",
      "[]\n"
     ]
    }
   ],
   "source": [
    "t = search.BST()\n",
    "t.add(\"B\", 3)\n",
    "assert len(t.root) == 1\n",
    "t.add(\"A\", 2)\n",
    "assert len(t.root) == 2\n",
    "t.add(\"C\", 1)\n",
    "assert len(t.root) == 3\n",
    "t.add(\"C\", 4)\n",
    "assert len(t.root) == 4\n",
    "print(t)\n",
    "print(t.root[\"A\"])\n",
    "print(t.root[\"C\"])\n",
    "print(t.root[\"B\"])\n",
    "print(t.root[\"Z\"])"
   ]
  },
  {
   "cell_type": "code",
   "execution_count": 25,
   "id": "dc1a99b8-a6d4-46bf-98b0-2f75ff0ddd41",
   "metadata": {},
   "outputs": [
    {
     "data": {
      "text/plain": [
       "Bank(Merchants Bank of Indiana, 549300WRDGBHKR1BXL98)"
      ]
     },
     "execution_count": 25,
     "metadata": {},
     "output_type": "execute_result"
    }
   ],
   "source": [
    "#Part 3\n",
    "mbi = loans.Bank('Merchants Bank of Indiana')\n",
    "mbi"
   ]
  },
  {
   "cell_type": "code",
   "execution_count": 26,
   "id": "fda0b810-a628-4042-a738-863381d91c01",
   "metadata": {},
   "outputs": [],
   "source": [
    "#dir(mbi)\n",
    "#mbi.__getattribute__('loan_list')\n",
    "#mbi.__dict__"
   ]
  },
  {
   "cell_type": "code",
   "execution_count": 27,
   "id": "01d1414a-acb8-49fd-a162-a026e4c7bee5",
   "metadata": {},
   "outputs": [
    {
     "data": {
      "text/plain": [
       "3.2181818181818183"
      ]
     },
     "execution_count": 27,
     "metadata": {},
     "output_type": "execute_result"
    }
   ],
   "source": [
    "#Q1\n",
    "mbi_ir = 0\n",
    "count = 0\n",
    "for loan in mbi.loan_list:\n",
    "    if loan.interest_rate != -1:\n",
    "        mbi_ir += loan.interest_rate\n",
    "        count += 1\n",
    "mbi_ir_avg = mbi_ir / count\n",
    "mbi_ir_avg"
   ]
  },
  {
   "cell_type": "code",
   "execution_count": 28,
   "id": "947ccf25-a425-4647-9b09-9f2c44471eb6",
   "metadata": {},
   "outputs": [
    {
     "data": {
      "text/plain": [
       "1.6724137931034482"
      ]
     },
     "execution_count": 28,
     "metadata": {},
     "output_type": "execute_result"
    }
   ],
   "source": [
    "#Q2\n",
    "mbi_app = 0\n",
    "for loan in mbi.loan_list:\n",
    "    mbi_app += len(loan.applicants)\n",
    "mbi_app_avg = mbi_app / len(mbi)\n",
    "mbi_app_avg"
   ]
  },
  {
   "cell_type": "code",
   "execution_count": 29,
   "id": "419c1a24-2385-46ac-9b85-d5cbc2a48b78",
   "metadata": {},
   "outputs": [
    {
     "data": {
      "text/plain": [
       "{'65-74': 6, '<25': 2, '35-44': 43, '25-34': 28, '45-54': 16, '55-64': 2}"
      ]
     },
     "execution_count": 29,
     "metadata": {},
     "output_type": "execute_result"
    }
   ],
   "source": [
    "#Q3\n",
    "mbi_age_dist = {}\n",
    "for loan in mbi.loan_list:\n",
    "    for app in loan.applicants:\n",
    "        age = app.age\n",
    "        if age in mbi_age_dist:\n",
    "            mbi_age_dist[age] += 1\n",
    "        else:\n",
    "            mbi_age_dist[age] = 1\n",
    "mbi_age_dist"
   ]
  },
  {
   "cell_type": "code",
   "execution_count": 30,
   "id": "189123e6-1f9f-4519-a857-8a2081b8a621",
   "metadata": {},
   "outputs": [
    {
     "data": {
      "text/plain": [
       "[<Loan: 3.875% on $135000.0 with 2 applicant(s)>,\n",
       " <Loan: 3.875% on $105000.0 with 2 applicant(s)>]"
      ]
     },
     "execution_count": 30,
     "metadata": {},
     "output_type": "execute_result"
    }
   ],
   "source": [
    "mbi_tree = search.BST()\n",
    "for loan in mbi.loan_list:\n",
    "    mbi_tree.add(loan.interest_rate, loan)\n",
    "mbi_tree.root.values"
   ]
  },
  {
   "cell_type": "code",
   "execution_count": 31,
   "id": "8a9cb314-af86-40d0-857b-f492d8a8223a",
   "metadata": {},
   "outputs": [
    {
     "data": {
      "text/plain": [
       "3"
      ]
     },
     "execution_count": 31,
     "metadata": {},
     "output_type": "execute_result"
    }
   ],
   "source": [
    "#Q4\n",
    "len(mbi_tree.root[-1])"
   ]
  },
  {
   "cell_type": "code",
   "execution_count": 32,
   "id": "10e100af-011f-433a-ae88-848df893a3ed",
   "metadata": {},
   "outputs": [
    {
     "data": {
      "text/plain": [
       "12"
      ]
     },
     "execution_count": 32,
     "metadata": {},
     "output_type": "execute_result"
    }
   ],
   "source": [
    "# tree height\n",
    "#mbi_tree.numleaves()\n",
    "# equivalent to this\n",
    "mbi_keys = set()\n",
    "for loan in mbi.loan_list:\n",
    "    mbi_keys.add(loan.interest_rate)\n",
    "len(mbi_keys)"
   ]
  },
  {
   "cell_type": "code",
   "execution_count": 33,
   "id": "6fd63b09-a99c-4701-bb2b-2455790c9c6e",
   "metadata": {},
   "outputs": [
    {
     "data": {
      "text/plain": [
       "8"
      ]
     },
     "execution_count": 33,
     "metadata": {},
     "output_type": "execute_result"
    }
   ],
   "source": [
    "#Q5\n",
    "# search the entire tree\n",
    "# go left until none, record 'depth'. return until right isn't none.\n",
    "# repeat until returned to beginning node, return max depth\n",
    "#https://pythontutor.com/render.html#code=class%20Node%28%29%3A%0A%20%20%20%20def%20__init__%28self,%20key%29%3A%0A%20%20%20%20%20%20%20%20self.key%20%3D%20key%0A%20%20%20%20%20%20%20%20self.values%20%3D%20%5B%5D%0A%20%20%20%20%20%20%20%20self.left%20%3D%20None%0A%20%20%20%20%20%20%20%20self.right%20%3D%20None%0A%20%20%20%20def%20__len__%28self%29%3A%0A%20%20%20%20%20%20%20%20size%20%3D%20len%28self.values%29%0A%20%20%20%20%20%20%20%20if%20self.left%20!%3D%20None%3A%0A%20%20%20%20%20%20%20%20%20%20%20%20size%20%2B%3D%20len%28self.left%29%0A%20%20%20%20%20%20%20%20if%20self.right%20!%3D%20None%3A%0A%20%20%20%20%20%20%20%20%20%20%20%20size%20%2B%3D%20len%28self.right%29%0A%20%20%20%20%20%20%20%20return%20size%0A%20%20%20%20%0A%20%20%20%20def%20__getitem__%28self,%20key%29%3A%0A%20%20%20%20%20%20%20%20if%20key%20%3D%3D%20self.key%3A%0A%20%20%20%20%20%20%20%20%20%20%20%20return%20self.values%0A%20%20%20%20%20%20%20%20elif%20key%20%3C%20self.key%3A%0A%20%20%20%20%20%20%20%20%20%20%20%20if%20self.left%20!%3D%20None%3A%0A%20%20%20%20%20%20%20%20%20%20%20%20%20%20%20%20return%20self.left%5Bkey%5D%0A%20%20%20%20%20%20%20%20elif%20key%20%3E%20self.key%3A%0A%20%20%20%20%20%20%20%20%20%20%20%20if%20self.right%20!%3D%20None%3A%0A%20%20%20%20%20%20%20%20%20%20%20%20%20%20%20%20return%20self.right%5Bkey%5D%0A%20%20%20%20%20%20%20%20%20%20%20%20else%3A%0A%20%20%20%20%20%20%20%20%20%20%20%20%20%20%20%20return%20%5B%5D%0A%20%20%20%20%0A%20%20%20%20def%20height%28self%29%3A%0A%20%20%20%20%20%20%20%20l_height%20%3D%20r_height%20%3D%200%0A%20%20%20%20%20%20%20%20if%20self.left%20!%3D%20None%3A%0A%20%20%20%20%20%20%20%20%20%20%20%20l_height%20%2B%3D%201%0A%20%20%20%20%20%20%20%20%20%20%20%20l_height%20%2B%3D%20self.left.height%28%29%0A%20%20%20%20%20%20%20%20%0A%20%20%20%20%20%20%20%20if%20self.right%20!%3D%20None%3A%0A%20%20%20%20%20%20%20%20%20%20%20%20r_height%20%2B%3D%201%0A%20%20%20%20%20%20%20%20%20%20%20%20r_height%20%2B%3D%20self.right.height%28%29%0A%20%20%20%20%20%20%20%20%0A%20%20%20%20%20%20%20%20%23%20compare%0A%20%20%20%20%20%20%20%20if%20l_height%20%3E%20r_height%3A%0A%20%20%20%20%20%20%20%20%20%20%20%20return%20l_height%0A%20%20%20%20%20%20%20%20else%3A%0A%20%20%20%20%20%20%20%20%20%20%20%20return%20r_height%0A%20%20%20%20%20%20%20%20%20%20%20%20%0A%20%20%20%20%20%20%20%20%0A%0Aclass%20BST%28%29%3A%0A%20%20%20%20def%20__init__%28self%29%3A%0A%20%20%20%20%20%20%20%20self.root%20%3D%20None%0A%0A%20%20%20%20def%20add%28self,%20key,%20val%29%3A%0A%20%20%20%20%20%20%20%20if%20self.root%20%3D%3D%20None%3A%0A%20%20%20%20%20%20%20%20%20%20%20%20self.root%20%3D%20Node%28key%29%0A%0A%20%20%20%20%20%20%20%20curr%20%3D%20self.root%0A%20%20%20%20%20%20%20%20while%20True%3A%0A%20%20%20%20%20%20%20%20%20%20%20%20if%20key%20%3C%20curr.key%3A%0A%20%20%20%20%20%20%20%20%20%20%20%20%20%20%20%20%23%20go%20left%0A%20%20%20%20%20%20%20%20%20%20%20%20%20%20%20%20if%20curr.left%20%3D%3D%20None%3A%0A%20%20%20%20%20%20%20%20%20%20%20%20%20%20%20%20%20%20%20%20curr.left%20%3D%20Node%28key%29%0A%20%20%20%20%20%20%20%20%20%20%20%20%20%20%20%20curr%20%3D%20curr.left%0A%20%20%20%20%20%20%20%20%20%20%20%20elif%20key%20%3E%20curr.key%3A%0A%20%20%20%20%20%20%20%20%20%20%20%20%20%20%20%20%20%23%20go%20right%0A%20%20%20%20%20%20%20%20%20%20%20%20%20%20%20%20if%20curr.right%20%3D%3D%20None%3A%0A%20%20%20%20%20%20%20%20%20%20%20%20%20%20%20%20%20%20%20%20curr.right%20%3D%20Node%28key%29%0A%20%20%20%20%20%20%20%20%20%20%20%20%20%20%20%20curr%20%3D%20curr.right%0A%20%20%20%20%20%20%20%20%20%20%20%20else%3A%0A%20%20%20%20%20%20%20%20%20%20%20%20%20%20%20%20%23%20found%20it!%0A%20%20%20%20%20%20%20%20%20%20%20%20%20%20%20%20assert%20curr.key%20%3D%3D%20key%0A%20%20%20%20%20%20%20%20%20%20%20%20%20%20%20%20break%0A%0A%20%20%20%20%20%20%20%20curr.values.append%28val%29%0A%0A%20%20%20%20def%20__dump%28self,%20node%29%3A%0A%20%20%20%20%20%20%20%20if%20node%20%3D%3D%20None%3A%0A%20%20%20%20%20%20%20%20%20%20%20%20return%0A%20%20%20%20%20%20%20%20self.__dump%28node.left%29%20%20%20%20%20%20%20%20%20%20%20%20%23%203%0A%20%20%20%20%20%20%20%20print%28node.key,%20%22%3A%22,%20node.values%29%20%20%23%202%0A%20%20%20%20%20%20%20%20self.__dump%28node.right%29%20%20%20%20%20%20%20%20%20%20%20%20%20%23%201%0A%0A%20%20%20%20def%20dump%28self%29%3A%0A%20%20%20%20%20%20%20%20self.__dump%28self.root%29%0A%20%20%20%20%0A%20%20%20%20def%20__numkeys%28self,%20node%29%3A%0A%20%20%20%20%20%20%20%20if%20node%20%3D%3D%20None%3A%0A%20%20%20%20%20%20%20%20%20%20%20%20return%200%0A%20%20%20%20%20%20%20%20else%3A%0A%20%20%20%20%20%20%20%20%20%20%20%20height%20%3D%201%0A%20%20%20%20%20%20%20%20height%20%2B%3D%20self.__numkeys%28node.left%29%0A%20%20%20%20%20%20%20%20height%20%2B%3D%20self.__numkeys%28node.right%29%0A%20%20%20%20%20%20%20%20return%20height%0A%20%20%20%20%0A%20%20%20%20def%20numkeys%28self%29%3A%0A%20%20%20%20%20%20%20%20return%20self.__numkeys%28self.root%29%0A%20%20%20%20%20%20%20%20%0A%20%20%20%20def%20height%28self%29%3A%0A%20%20%20%20%20%20%20%20return%20self.root.height%28%29%0A%20%20%20%20%20%20%20%20%0A%20%20%20%20%20%20%20%20%0At%20%3D%20BST%28%29%0At.add%28%22C%22,%200%29%0At.add%28%22B%22,%201%29%0At.add%28%22A%22,%202%29%0At.add%28%22F%22,%201%29%0At.add%28%22E%22,%202%29%0At.add%28%22D%22,%203%29%0At.add%28%22G%22,%202%29%0A%0At.height%28%29&cumulative=false&curInstr=170&heapPrimitives=nevernest&mode=display&origin=opt-frontend.js&py=3&rawInputLstJSON=%5B%5D&textReferences=false\n",
    "#mbi_tree.root.left.left.height()\n",
    "mbi_tree.height()"
   ]
  },
  {
   "cell_type": "code",
   "execution_count": 34,
   "id": "0692c4b4-8f44-462a-9cb5-1aed30d1671a",
   "metadata": {},
   "outputs": [],
   "source": [
    "#mbi_tree[3.375].height()\n",
    "# for this to work, Node.__getitem__() would have to return self, not self.values"
   ]
  },
  {
   "cell_type": "code",
   "execution_count": 35,
   "id": "f7819d3a-2c48-4940-81ea-37a963bd815d",
   "metadata": {},
   "outputs": [
    {
     "data": {
      "text/plain": [
       "Bank(Landmark Credit Union, 549300KY533JFETOYG46)"
      ]
     },
     "execution_count": 35,
     "metadata": {},
     "output_type": "execute_result"
    }
   ],
   "source": [
    "# Part 4\n",
    "lcu = loans.Bank('Landmark Credit Union')\n",
    "lcu"
   ]
  },
  {
   "cell_type": "code",
   "execution_count": 36,
   "id": "addec6b0-e5e0-42a3-9489-3457093e7f51",
   "metadata": {},
   "outputs": [
    {
     "data": {
      "text/plain": [
       "<Axes: title={'center': 'Time Elapsed for First 15,000 Entries into BST'}, xlabel='BST Adds', ylabel='Time Elapsed (ms)'>"
      ]
     },
     "execution_count": 36,
     "metadata": {},
     "output_type": "execute_result"
    },
    {
     "data": {
      "image/png": "[encoded data removed]",
      "text/plain": [
       "<Figure size 640x480 with 1 Axes>"
      ]
     },
     "metadata": {},
     "output_type": "display_data"
    }
   ],
   "source": [
    "#Q6\n",
    "lcu_tree = search.BST()\n",
    "times_s = pd.Series(dtype=float)\n",
    "BST_adds = 0\n",
    "t2 = 0\n",
    "\n",
    "for loan in lcu.loan_list:\n",
    "    if BST_adds <= 15000:\n",
    "        t0 = time.time()\n",
    "        lcu_tree.add(loan.interest_rate, loan)\n",
    "        t1 = time.time()\n",
    "        BST_adds += 1\n",
    "        t2 += t1 - t0\n",
    "        times_s.loc[BST_adds] = t2 * 1000\n",
    "    else:\n",
    "        lcu_tree.add(loan.interest_rate, loan)\n",
    "\n",
    "times_s.plot.line(xlabel = 'BST Adds',\n",
    "                  ylabel = 'Time Elapsed (ms)',\n",
    "                  title = 'Time Elapsed for First 15,000 Entries into BST')"
   ]
  },
  {
   "cell_type": "code",
   "execution_count": 37,
   "id": "26a427f3-00ba-4ac5-b600-adfed6be18ab",
   "metadata": {},
   "outputs": [
    {
     "data": {
      "text/plain": [
       "<Axes: title={'center': 'Lookup Speed Comparison - Loop vs. BST'}, ylabel='Milliseconds'>"
      ]
     },
     "execution_count": 37,
     "metadata": {},
     "output_type": "execute_result"
    },
    {
     "data": {
      "image/png": "[encoded data removed]",
      "text/plain": [
       "<Figure size 640x480 with 1 Axes>"
      ]
     },
     "metadata": {},
     "output_type": "display_data"
    }
   ],
   "source": [
    "#Q7\n",
    "times_s = pd.Series(dtype=float)\n",
    "\n",
    "# loop\n",
    "c_199 = 0\n",
    "t0 = time.time()\n",
    "for loan in lcu.loan_list:\n",
    "    if loan.interest_rate == 1.99:\n",
    "        c_199 += 1\n",
    "t1 = time.time()\n",
    "times_s.loc['Loop'] = float((t1 - t0) * 1000)\n",
    "\n",
    "# BST\n",
    "t0 = time.time()\n",
    "len(lcu_tree[1.99])\n",
    "t1 = time.time()\n",
    "times_s.loc['BST'] = float((t1 - t0) * 1000)\n",
    "\n",
    "ticks = np.arange(0, 5, 0.5)\n",
    "times_s.plot.bar(ylabel = 'Milliseconds',\n",
    "                 yticks = ticks,\n",
    "                 title = 'Lookup Speed Comparison - Loop vs. BST')"
   ]
  },
  {
   "cell_type": "code",
   "execution_count": 38,
   "id": "13364a27-96ae-4d15-8ff1-74c2e5326a6b",
   "metadata": {
    "tags": []
   },
   "outputs": [
    {
     "data": {
      "text/plain": [
       "<Axes: xlabel='Number of racial identities', ylabel='Count'>"
      ]
     },
     "execution_count": 38,
     "metadata": {},
     "output_type": "execute_result"
    },
    {
     "data": {
      "image/png": "[encoded data removed]",
      "text/plain": [
       "<Figure size 640x480 with 1 Axes>"
      ]
     },
     "metadata": {},
     "output_type": "display_data"
    }
   ],
   "source": [
    "#Q8\n",
    "ri_dist = {}\n",
    "for loan in lcu.loan_list:\n",
    "    for app in loan.applicants:\n",
    "        num_races = len(app.race)\n",
    "        if num_races in ri_dist:\n",
    "            ri_dist[num_races] += 1\n",
    "        else:\n",
    "            ri_dist[num_races] = 1\n",
    "ri_dist_s = pd.Series(ri_dist).sort_index()\n",
    "ri_dist_s.plot.bar(ylabel = 'Count',\n",
    "                   xlabel = 'Number of racial identities')"
   ]
  },
  {
   "cell_type": "code",
   "execution_count": 39,
   "id": "3878c8a2-054e-4b1d-bd53-4467c92b4477",
   "metadata": {},
   "outputs": [
    {
     "data": {
      "text/plain": [
       "63"
      ]
     },
     "execution_count": 39,
     "metadata": {},
     "output_type": "execute_result"
    }
   ],
   "source": [
    "#Q9\n",
    "#ir_list = set()\n",
    "#for loan in lcu.loan_list:\n",
    "#    ir_list.add(loan.interest_rate)\n",
    "#len(ir_list)\n",
    "# num_nodes is the same as this ^\n",
    "lcu_tree.num_leaves()"
   ]
  },
  {
   "cell_type": "code",
   "execution_count": 40,
   "id": "822dadd6-5693-45f3-81e0-23b202ed5b65",
   "metadata": {},
   "outputs": [],
   "source": [
    "#https://www.andrew.cmu.edu/course/15-121/lectures/Trees/trees.html#:~:text=Nodes%20with%20no%20children%20are,same%20parent%20are%20called%20siblings.\n",
    "#t = search.BST()\n",
    "#t.add(\"A\", 1)\n",
    "#t.add(\"D\", 3)\n",
    "#t.add(\"C\", 4)\n",
    "#t.add(\"B\", 5)\n",
    "#t.add(\"E\", 6)\n",
    "\n",
    "#t.root.right.nlargest(0)\n",
    "#t.root.right.nlargest(6)\n",
    "#t.num_nodes()\n",
    "#t.root.num_nodes()"
   ]
  },
  {
   "cell_type": "code",
   "execution_count": 41,
   "id": "53a6e617-bd10-4c13-bf08-771ad84ac9d0",
   "metadata": {},
   "outputs": [
    {
     "data": {
      "text/plain": [
       "9.85"
      ]
     },
     "execution_count": 41,
     "metadata": {},
     "output_type": "execute_result"
    }
   ],
   "source": [
    "#Q10\n",
    "lcu_tree.root.nthlargest(3)"
   ]
  },
  {
   "cell_type": "code",
   "execution_count": null,
   "id": "74850e74-d3d9-4bea-933a-162e00fb8cbb",
   "metadata": {},
   "outputs": [],
   "source": []
  }
 ],
 "metadata": {
  "kernelspec": {
   "display_name": "Python 3 (ipykernel)",
   "language": "python",
   "name": "python3"
  },
  "language_info": {
   "codemirror_mode": {
    "name": "ipython",
    "version": 3
   },
   "file_extension": ".py",
   "mimetype": "text/x-python",
   "name": "python",
   "nbconvert_exporter": "python",
   "pygments_lexer": "ipython3",
   "version": "3.10.12"
  }
 },
 "nbformat": 4,
 "nbformat_minor": 5
}
