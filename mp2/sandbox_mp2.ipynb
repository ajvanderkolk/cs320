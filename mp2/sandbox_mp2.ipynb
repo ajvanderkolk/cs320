{
 "cells": [
  {
   "cell_type": "code",
   "execution_count": null,
   "id": "0f1bc982-f041-4385-83aa-25a5b07caf98",
   "metadata": {},
   "outputs": [],
   "source": [
    "# save storage space: directly access data without decompression\n",
    "zf = zipfile.ZipFile(\"wi.zip\")\n",
    "f = zf.open(\"wi.csv\")\n",
    "\n",
    "total = 0\n",
    "count = 0\n",
    "\n",
    "# save memory space: only look at one row at a time\n",
    "reader = csv.DictReader(TextIOWrapper(f)) # use Wrapper to get str not bytes\n",
    "\n",
    "for row in reader:\n",
    "    try:\n",
    "        total += float(row[\"interest_rate\"])\n",
    "        count += 1\n",
    "    except ValueError:\n",
    "        pass # do nothing\n",
    "\n",
    "f.close()\n",
    "zf.close()\n",
    "\n",
    "total / count"
   ]
  },
  {
   "cell_type": "code",
   "execution_count": null,
   "id": "daa86ef7-8d1f-4e5f-9596-fb6f90ca41a5",
   "metadata": {},
   "outputs": [],
   "source": [
    "def get_rates_v1():\n",
    "    rates = []\n",
    "    \n",
    "    zf = zipfile.ZipFile(\"wi.zip\")\n",
    "    f = zf.open(\"wi.csv\")\n",
    "\n",
    "    reader = csv.DictReader(TextIOWrapper(f))\n",
    "    \n",
    "    for row in reader:\n",
    "        try:\n",
    "            rates.append(float(row[\"interest_rate\"]))\n",
    "        except ValueError:\n",
    "            pass # do nothing\n",
    "\n",
    "    f.close()\n",
    "    zf.close()\n",
    "    \n",
    "    return rates\n",
    "\n",
    "rates = get_rates_v1()\n",
    "sum(rates) / len(rates)"
   ]
  },
  {
   "cell_type": "code",
   "execution_count": null,
   "id": "5f38f479-e257-4992-9556-4f6c4633fa43",
   "metadata": {},
   "outputs": [],
   "source": [
    "def get_rates_v2():\n",
    "    print(\"Starting generator\")\n",
    "    \n",
    "    zf = zipfile.ZipFile(\"wi.zip\")\n",
    "    f = zf.open(\"wi.csv\")\n",
    "    \n",
    "    reader = csv.DictReader(TextIOWrapper(f))\n",
    "    \n",
    "    for row in reader:\n",
    "        try:\n",
    "            yield float(row[\"interest_rate\"])\n",
    "        except ValueError:\n",
    "            pass # do nothing\n",
    "\n",
    "    f.close()\n",
    "    zf.close()\n",
    "\n",
    "rates = get_rates_v2()"
   ]
  },
  {
   "cell_type": "code",
   "execution_count": 20,
   "id": "64143ac3-f843-4c78-a100-29916820bccb",
   "metadata": {},
   "outputs": [
    {
     "name": "stdout",
     "output_type": "stream",
     "text": [
      "Starting generator\n"
     ]
    },
    {
     "data": {
      "text/plain": [
       "3.0"
      ]
     },
     "execution_count": 20,
     "metadata": {},
     "output_type": "execute_result"
    }
   ],
   "source": [
    "next(rates)"
   ]
  },
  {
   "cell_type": "code",
   "execution_count": 21,
   "id": "8f4f06d9-5bb2-473a-bc6d-a615a9edf8e0",
   "metadata": {},
   "outputs": [
    {
     "name": "stdout",
     "output_type": "stream",
     "text": [
      "Starting generator\n"
     ]
    },
    {
     "data": {
      "text/plain": [
       "3.266264315063054"
      ]
     },
     "execution_count": 21,
     "metadata": {},
     "output_type": "execute_result"
    }
   ],
   "source": [
    "rates = get_rates_v2()\n",
    "\n",
    "total = 0\n",
    "count = 0\n",
    "\n",
    "for rate in rates: # keeps calling next(rates) to get values from yield\n",
    "    total += rate\n",
    "    count += 1\n",
    "    \n",
    "total / count"
   ]
  },
  {
   "cell_type": "code",
   "execution_count": 22,
   "id": "122af443-b15b-46e8-bd2e-fdee98f63c78",
   "metadata": {},
   "outputs": [
    {
     "name": "stdout",
     "output_type": "stream",
     "text": [
      "Starting generator\n"
     ]
    },
    {
     "data": {
      "text/plain": [
       "3.125"
      ]
     },
     "execution_count": 22,
     "metadata": {},
     "output_type": "execute_result"
    }
   ],
   "source": [
    "rates = list(get_rates_v2())\n",
    "rates.sort()\n",
    "median_value = rates[len(rates)//2]\n",
    "median_value"
   ]
  }
 ],
 "metadata": {
  "kernelspec": {
   "display_name": "",
   "name": ""
  },
  "language_info": {
   "name": ""
  }
 },
 "nbformat": 4,
 "nbformat_minor": 5
}
