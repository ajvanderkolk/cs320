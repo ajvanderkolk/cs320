{
 "cells": [
  {
   "cell_type": "code",
   "execution_count": 1,
   "id": "40762d06-cefa-4969-8bc8-f6e66d76f0bd",
   "metadata": {},
   "outputs": [],
   "source": [
    "from main import UserPredictor\n",
    "import pandas as pd\n",
    "%load_ext autoreload\n",
    "%autoreload 2"
   ]
  },
  {
   "cell_type": "code",
   "execution_count": 13,
   "id": "3b6ec738-702a-4b7a-ab61-3e24c0593b77",
   "metadata": {},
   "outputs": [],
   "source": [
    "model = UserPredictor()\n",
    "train_users = pd.read_csv(\"data/train_users.csv\")\n",
    "train_logs = pd.read_csv(\"data/train_logs.csv\")\n",
    "train_y = pd.read_csv(\"data/train_y.csv\")\n",
    "model.fit(train_users, train_logs, train_y)"
   ]
  },
  {
   "cell_type": "code",
   "execution_count": 14,
   "id": "59ac81e5-4d77-4375-ad5a-29782582ffe4",
   "metadata": {},
   "outputs": [
    {
     "data": {
      "text/plain": [
       "array([1, 1, 1, ..., 0, 1, 1])"
      ]
     },
     "execution_count": 14,
     "metadata": {},
     "output_type": "execute_result"
    }
   ],
   "source": [
    "test_users = pd.read_csv(\"data/test1_users.csv\")\n",
    "test_logs = pd.read_csv(\"data/test1_logs.csv\")\n",
    "y_pred = model.predict(test_users, test_logs)\n",
    "y_pred"
   ]
  },
  {
   "cell_type": "code",
   "execution_count": 15,
   "id": "aff7e313-11a2-4531-af81-cda8d9040a31",
   "metadata": {},
   "outputs": [
    {
     "data": {
      "text/plain": [
       "0.4508333333333333"
      ]
     },
     "execution_count": 15,
     "metadata": {},
     "output_type": "execute_result"
    }
   ],
   "source": [
    "float((y_pred == 1).astype(int).sum() / len(y_pred)) "
   ]
  },
  {
   "cell_type": "code",
   "execution_count": null,
   "id": "a3827c9b-2ecd-4ac2-828c-2f684320faed",
   "metadata": {},
   "outputs": [],
   "source": []
  }
 ],
 "metadata": {
  "kernelspec": {
   "display_name": "Python 3 (ipykernel)",
   "language": "python",
   "name": "python3"
  },
  "language_info": {
   "codemirror_mode": {
    "name": "ipython",
    "version": 3
   },
   "file_extension": ".py",
   "mimetype": "text/x-python",
   "name": "python",
   "nbconvert_exporter": "python",
   "pygments_lexer": "ipython3",
   "version": "3.10.12"
  }
 },
 "nbformat": 4,
 "nbformat_minor": 5
}
