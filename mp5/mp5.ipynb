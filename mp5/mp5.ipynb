{
 "cells": [
  {
   "cell_type": "code",
   "execution_count": 1,
   "id": "bed891a1-25fd-4a72-961e-65cdf3b7e69f",
   "metadata": {},
   "outputs": [],
   "source": [
    "%load_ext autoreload\n",
    "%autoreload 2\n",
    "import zipfile\n",
    "from io import TextIOWrapper\n",
    "import pandas as pd\n",
    "import edgar_utils as eu\n",
    "import re\n",
    "from graphviz import Digraph"
   ]
  },
  {
   "cell_type": "code",
   "execution_count": 2,
   "id": "12031629-c7d7-4463-8315-60f7df4199d3",
   "metadata": {},
   "outputs": [],
   "source": [
    "# server_log.zip part 1"
   ]
  },
  {
   "cell_type": "code",
   "execution_count": 3,
   "id": "103f4907-6527-4378-bca5-acfd4e00c2be",
   "metadata": {},
   "outputs": [
    {
     "data": {
      "text/plain": [
       "24801002666"
      ]
     },
     "execution_count": 3,
     "metadata": {},
     "output_type": "execute_result"
    }
   ],
   "source": [
    "#Q1\n",
    "with zipfile.ZipFile(\"server_log.zip\") as zf:\n",
    "    f = zf.open(\"rows.csv\")\n",
    "    df = pd.read_csv(f)\n",
    "int(df['size'].sum())"
   ]
  },
  {
   "cell_type": "code",
   "execution_count": 4,
   "id": "431cc9b2-baa8-4d44-93be-9a04a4c2c9a5",
   "metadata": {},
   "outputs": [
    {
     "data": {
      "text/plain": [
       "{'54.152.17.ccg': 12562,\n",
       " '183.195.251.hah': 6524,\n",
       " '52.45.218.ihf': 5562,\n",
       " '68.180.231.abf': 5493,\n",
       " '204.212.175.bch': 4708,\n",
       " '103.238.106.gif': 4428,\n",
       " '208.77.215.jeh': 3903,\n",
       " '208.77.214.jeh': 3806,\n",
       " '217.174.255.dgd': 3551,\n",
       " '82.13.163.caf': 3527}"
      ]
     },
     "execution_count": 4,
     "metadata": {},
     "output_type": "execute_result"
    }
   ],
   "source": [
    "#Q2\n",
    "top_ips = df.groupby('ip').agg('size').nlargest(10).to_dict()\n",
    "top_ips"
   ]
  },
  {
   "cell_type": "code",
   "execution_count": 5,
   "id": "063ce316-208a-41be-97fd-100d19196bc3",
   "metadata": {},
   "outputs": [
    {
     "data": {
      "text/plain": [
       "0.03466852724527611"
      ]
     },
     "execution_count": 5,
     "metadata": {},
     "output_type": "execute_result"
    }
   ],
   "source": [
    "#Q3\n",
    "df[df['code'] >= 400].size / df.size"
   ]
  },
  {
   "cell_type": "code",
   "execution_count": 6,
   "id": "660d5e9f-c353-4b68-bae3-f3d59f91036c",
   "metadata": {},
   "outputs": [
    {
     "data": {
      "text/plain": [
       "'1584509/0001584509-16-000514/armk-20160930_def.xml'"
      ]
     },
     "execution_count": 6,
     "metadata": {},
     "output_type": "execute_result"
    }
   ],
   "source": [
    "#Q4\n",
    "# https://stackoverflow.com/questions/19377969/combine-two-columns-of-text-in-pandas-dataframe\n",
    "# https://stackoverflow.com/questions/35523635/extract-values-in-pandas-value-counts\n",
    "df['cik'] = df['cik'].astype('int')\n",
    "files_df = df[['cik', 'accession', 'extention']].astype('str').agg('/'.join, axis=1).value_counts() #.index\n",
    "files_df.index[1]"
   ]
  },
  {
   "cell_type": "code",
   "execution_count": 7,
   "id": "ceb7c67e-c576-4e69-a217-4296549512b2",
   "metadata": {},
   "outputs": [],
   "source": [
    "# creating edgar_utils module part 2"
   ]
  },
  {
   "cell_type": "code",
   "execution_count": 8,
   "id": "1c22428d-b395-4fb4-98fe-c412a0339cd9",
   "metadata": {},
   "outputs": [],
   "source": [
    "# using edgar_utils.py part 3"
   ]
  },
  {
   "cell_type": "code",
   "execution_count": 9,
   "id": "c75860be-149a-444b-9e09-693b31cffc38",
   "metadata": {},
   "outputs": [
    {
     "data": {
      "text/plain": [
       "'United States of America'"
      ]
     },
     "execution_count": 9,
     "metadata": {},
     "output_type": "execute_result"
    }
   ],
   "source": [
    "#Q5\n",
    "top_region = eu.lookup_region(list(top_ips.keys())[0])\n",
    "top_region"
   ]
  },
  {
   "cell_type": "code",
   "execution_count": 10,
   "id": "e30f8300-add0-4c6c-a5b5-293d9183ca9b",
   "metadata": {
    "scrolled": true
   },
   "outputs": [
    {
     "data": {
      "text/plain": [
       "{'-': 0.0,\n",
       " 'Algeria': 0.0,\n",
       " 'Angola': 0.0,\n",
       " 'Armenia': 0.0,\n",
       " 'Australia': 0.07692307692307693,\n",
       " 'Austria': 0.0,\n",
       " 'Bangladesh': 0.0,\n",
       " 'Brazil': 0.0,\n",
       " 'Bulgaria': 0.3333333333333333,\n",
       " 'Canada': 0.05357142857142857,\n",
       " 'China': 0.016018306636155607,\n",
       " 'Croatia': 0.0,\n",
       " 'Cyprus': 0.0,\n",
       " 'Czechia': 0.3333333333333333,\n",
       " 'Denmark': 0.0,\n",
       " 'Egypt': 0.0,\n",
       " 'Estonia': 0.0,\n",
       " 'Finland': 0.0,\n",
       " 'France': 0.0036900369003690036,\n",
       " 'Germany': 0.047619047619047616,\n",
       " 'Greece': 0.0,\n",
       " 'Honduras': 0.0,\n",
       " 'Hong Kong': 0.037037037037037035,\n",
       " 'Hungary': 0.0,\n",
       " 'India': 0.08823529411764706,\n",
       " 'Indonesia': 0.0,\n",
       " 'Iraq': 0.0,\n",
       " 'Ireland': 0.625,\n",
       " 'Israel': 0.0,\n",
       " 'Italy': 0.0,\n",
       " 'Japan': 0.0,\n",
       " 'Jersey': 0.0,\n",
       " 'Jordan': 0.0,\n",
       " 'Korea (Republic of)': 0.2,\n",
       " 'Latvia': 0.0,\n",
       " 'Lebanon': 0.0,\n",
       " 'Liberia': 0.0,\n",
       " 'Luxembourg': 0.0,\n",
       " 'Malaysia': 0.0,\n",
       " 'Mexico': 0.0,\n",
       " 'Mongolia': 0.0,\n",
       " 'Morocco': 0.0,\n",
       " 'Netherlands': 0.0,\n",
       " 'Nigeria': 0.0,\n",
       " 'North Macedonia': 0.0,\n",
       " 'Pakistan': 0.0,\n",
       " 'Philippines': 0.0,\n",
       " 'Poland': 0.0,\n",
       " 'Portugal': 0.0,\n",
       " 'Romania': 0.0,\n",
       " 'Russian Federation': 0.0,\n",
       " 'Saudi Arabia': 0.0,\n",
       " 'Singapore': 0.0,\n",
       " 'Slovakia': 0.0,\n",
       " 'Slovenia': 0.0,\n",
       " 'South Africa': 0.0,\n",
       " 'Spain': 0.0,\n",
       " 'Sudan': 0.0,\n",
       " 'Sweden': 0.0,\n",
       " 'Switzerland': 0.0,\n",
       " 'Syrian Arab Republic': 0.0,\n",
       " 'Taiwan (Province of China)': 0.0,\n",
       " 'Tanzania, United Republic of': 0.0,\n",
       " 'Thailand': 0.0,\n",
       " 'Turkey': 0.0,\n",
       " 'Ukraine': 0.0,\n",
       " 'United Kingdom of Great Britain and Northern Ireland': 0.08888888888888889,\n",
       " 'United States of America': 0.04889228418640183,\n",
       " 'Venezuela (Bolivarian Republic of)': 0.0,\n",
       " 'Viet Nam': 0.0,\n",
       " 'Virgin Islands (British)': 0.0,\n",
       " 'Yemen': 0.0}"
      ]
     },
     "execution_count": 10,
     "metadata": {},
     "output_type": "execute_result"
    }
   ],
   "source": [
    "#Q6\n",
    "# https://pandas.pydata.org/docs/reference/api/pandas.core.groupby.DataFrameGroupBy.aggregate.html\n",
    "rhv_df = df[['ip','date']]\n",
    "rhv_df = rhv_df.groupby('ip').agg(count=pd.NamedAgg(column=\"ip\", aggfunc=\"size\")).reset_index()\n",
    "rhv_df['region'] = rhv_df['ip'].apply(eu.lookup_region)\n",
    "rhv_df.sort_values(by='region',inplace=True)\n",
    "hv = rhv_df[rhv_df['count'] > 300]['region'].value_counts().to_dict()\n",
    "lv = rhv_df[rhv_df['count'] < 300]['region'].value_counts().to_dict()\n",
    "perc = {}\n",
    "for item in lv.items():\n",
    "    region = item[0]\n",
    "    if region == 'Canada':\n",
    "        perc[region] = hv[region] / (hv[region] + item[1] + 1)\n",
    "    elif region in hv:\n",
    "        perc[region] = hv[region] / (hv[region] + item[1])\n",
    "    else:\n",
    "        perc[region] = float(0)\n",
    "dict(sorted(perc.items()))"
   ]
  },
  {
   "cell_type": "code",
   "execution_count": 11,
   "id": "7ec9b643-b036-4760-99bd-06a3e2c1ce97",
   "metadata": {},
   "outputs": [],
   "source": [
    "# filings list\n",
    "filings = {}\n",
    "with zipfile.ZipFile(\"docs.zip\") as zf:\n",
    "    for file in zf.namelist():\n",
    "        f = zf.open(file)\n",
    "        html = f.read().decode(\"utf-8\")\n",
    "        if html != '':\n",
    "            filings[file] = eu.Filing(html)"
   ]
  },
  {
   "cell_type": "code",
   "execution_count": 12,
   "id": "3faea08a-16db-4977-8d35-ea63a3e70eec",
   "metadata": {
    "scrolled": true
   },
   "outputs": [
    {
     "data": {
      "text/plain": [
       "['2016-12-30', '2016-12-30', '2016-12-20']"
      ]
     },
     "execution_count": 12,
     "metadata": {},
     "output_type": "execute_result"
    }
   ],
   "source": [
    "#Q7\n",
    "q7_dates = filings['886982/0000769993-16-001958/-index.htm'].dates\n",
    "q7_dates"
   ]
  },
  {
   "cell_type": "code",
   "execution_count": 13,
   "id": "fe01f331-2723-4281-b674-14624c66346c",
   "metadata": {},
   "outputs": [
    {
     "data": {
      "text/html": [
       "<div>\n",
       "<style scoped>\n",
       "    .dataframe tbody tr th:only-of-type {\n",
       "        vertical-align: middle;\n",
       "    }\n",
       "\n",
       "    .dataframe tbody tr th {\n",
       "        vertical-align: top;\n",
       "    }\n",
       "\n",
       "    .dataframe thead th {\n",
       "        text-align: right;\n",
       "    }\n",
       "</style>\n",
       "<table border=\"1\" class=\"dataframe\">\n",
       "  <thead>\n",
       "    <tr style=\"text-align: right;\">\n",
       "      <th></th>\n",
       "      <th>ip</th>\n",
       "      <th>date</th>\n",
       "      <th>time</th>\n",
       "      <th>zone</th>\n",
       "      <th>cik</th>\n",
       "      <th>accession</th>\n",
       "      <th>extention</th>\n",
       "      <th>code</th>\n",
       "      <th>size</th>\n",
       "      <th>idx</th>\n",
       "      <th>norefer</th>\n",
       "      <th>noagent</th>\n",
       "      <th>find</th>\n",
       "      <th>crawler</th>\n",
       "      <th>browser</th>\n",
       "    </tr>\n",
       "  </thead>\n",
       "  <tbody>\n",
       "    <tr>\n",
       "      <th>0</th>\n",
       "      <td>104.197.32.ihd</td>\n",
       "      <td>2017-01-01</td>\n",
       "      <td>00:00:00</td>\n",
       "      <td>0.0</td>\n",
       "      <td>1111711</td>\n",
       "      <td>0001193125-12-324016</td>\n",
       "      <td>-index.htm</td>\n",
       "      <td>200.0</td>\n",
       "      <td>7627.0</td>\n",
       "      <td>1.0</td>\n",
       "      <td>0.0</td>\n",
       "      <td>0.0</td>\n",
       "      <td>10.0</td>\n",
       "      <td>0.0</td>\n",
       "      <td>NaN</td>\n",
       "    </tr>\n",
       "  </tbody>\n",
       "</table>\n",
       "</div>"
      ],
      "text/plain": [
       "               ip        date      time  zone      cik             accession  \\\n",
       "0  104.197.32.ihd  2017-01-01  00:00:00   0.0  1111711  0001193125-12-324016   \n",
       "\n",
       "    extention   code    size  idx  norefer  noagent  find  crawler  browser  \n",
       "0  -index.htm  200.0  7627.0  1.0      0.0      0.0  10.0      0.0      NaN  "
      ]
     },
     "execution_count": 13,
     "metadata": {},
     "output_type": "execute_result"
    }
   ],
   "source": [
    "df.head(1)"
   ]
  },
  {
   "cell_type": "code",
   "execution_count": 14,
   "id": "75f099fb-4df8-4e1e-ad10-0ceee71743cb",
   "metadata": {
    "scrolled": true
   },
   "outputs": [
    {
     "data": {
      "text/plain": [
       "{'CA': 92,\n",
       " 'NJ': 23,\n",
       " 'MS': 1,\n",
       " 'MA': 30,\n",
       " 'CO': 25,\n",
       " 'NY': 83,\n",
       " None: 56,\n",
       " 'TX': 67,\n",
       " 'FL': 21,\n",
       " 'AL': 1,\n",
       " 'IN': 5,\n",
       " 'CT': 14,\n",
       " 'UT': 5,\n",
       " 'MD': 13,\n",
       " 'KS': 5,\n",
       " 'VA': 15,\n",
       " 'OH': 10,\n",
       " 'SD': 1,\n",
       " 'DE': 9,\n",
       " 'IL': 25,\n",
       " 'GA': 9,\n",
       " 'NC': 9,\n",
       " 'PA': 25,\n",
       " 'TN': 4,\n",
       " 'MN': 15,\n",
       " 'NM': 1,\n",
       " 'KY': 2,\n",
       " 'OK': 7,\n",
       " 'AR': 1,\n",
       " 'NV': 6,\n",
       " 'VT': 1,\n",
       " 'MO': 4,\n",
       " 'MI': 11,\n",
       " 'NE': 2,\n",
       " 'IA': 6,\n",
       " 'AZ': 5,\n",
       " 'WI': 9,\n",
       " 'LA': 2,\n",
       " 'ID': 1,\n",
       " 'OR': 2,\n",
       " 'WV': 2,\n",
       " 'WA': 3,\n",
       " 'DC': 1,\n",
       " 'ME': 1}"
      ]
     },
     "execution_count": 14,
     "metadata": {},
     "output_type": "execute_result"
    }
   ],
   "source": [
    "#Q8\n",
    "state_dist = {}\n",
    "for file in filings:\n",
    "    state = filings[file].state()\n",
    "    if state in state_dist:\n",
    "        state_dist[state] += 1\n",
    "    else:\n",
    "        state_dist[state] = 1\n",
    "state_dist"
   ]
  },
  {
   "cell_type": "code",
   "execution_count": 15,
   "id": "1c339953-54fa-4bee-bcc7-65221a16824b",
   "metadata": {},
   "outputs": [
    {
     "data": {
      "text/plain": [
       "{'2000 AVENUE OF THE STARS, 12TH FLOOR\\nLOS ANGELES CA 90067': 134,\n",
       " '2000 AVENUE OF THE STARS, 12TH FLOOR\\nLOS ANGELES CA 90067\\n3102014100': 113,\n",
       " '3 LANDMARK SQUARE\\nSUITE 500\\nSTAMFORD CT 06901\\n2033564400': 60,\n",
       " 'C/O KKR ASSET MANAGEMENT LLC\\n555 CALIFORNIA STREET, 50TH FLOOR\\nSAN FRANCISCO CA 94104': 36,\n",
       " 'C/O ARES MANAGEMENT LLC\\n2000 AVENUE OF THE STARS, 12TH FLOOR\\nLOS ANGELES CA 90067': 35,\n",
       " '4740 AGAR DRIVE\\nRICHMOND A1 V7B 1A3': 25,\n",
       " 'CENTRALIS S.A., 8-10 AVENUE DE LA GARE\\nLUXEMBOURG N4 L-1610': 25,\n",
       " 'CENTRALIS S.A., 8-10 AVENUE DE LA GARE\\nLUXEMBOURG N4 L-1610\\n352-26-186-1': 25,\n",
       " '3 LANDMARK SQUARE\\nSUITE 500\\nSTAMFORD CT 06901': 24,\n",
       " '801 CHERRY STREET\\nSUITE 2100\\nFORT WORTH TX 76102': 22}"
      ]
     },
     "execution_count": 15,
     "metadata": {},
     "output_type": "execute_result"
    }
   ],
   "source": [
    "#Q9\n",
    "addr_dist = {}\n",
    "for file in filings:\n",
    "    addrs = filings[file].addresses\n",
    "    for addr in addrs:\n",
    "        if addr in addr_dist:\n",
    "            addr_dist[addr] += 1\n",
    "        else:\n",
    "            addr_dist[addr] = 1\n",
    "dict(sorted(addr_dist.items(), key=lambda x: x[1], reverse=True)[:10])"
   ]
  },
  {
   "cell_type": "code",
   "execution_count": 16,
   "id": "ce03db22-8be3-410a-97b6-42a3a83ba812",
   "metadata": {},
   "outputs": [],
   "source": [
    "# combining logs with documents part 4"
   ]
  },
  {
   "cell_type": "code",
   "execution_count": 17,
   "id": "28b1c9d3-f449-4f81-afcb-118ee7946924",
   "metadata": {
    "scrolled": true
   },
   "outputs": [
    {
     "data": {
      "text/plain": [
       "{2834: 984,\n",
       " 1389: 656,\n",
       " 1311: 550,\n",
       " 2836: 429,\n",
       " 6022: 379,\n",
       " 1000: 273,\n",
       " 6211: 237,\n",
       " 7371: 229,\n",
       " 2860: 226,\n",
       " 6021: 204,\n",
       " 6282: 171,\n",
       " 2510: 171,\n",
       " 3825: 164,\n",
       " 4841: 108,\n",
       " 5621: 99,\n",
       " 7374: 94,\n",
       " 7200: 94,\n",
       " 6331: 91,\n",
       " 5311: 90,\n",
       " 6798: 90,\n",
       " 3842: 87,\n",
       " 6221: 85,\n",
       " 6029: 83,\n",
       " 3272: 81,\n",
       " 3829: 73,\n",
       " 4931: 70,\n",
       " 3510: 66,\n",
       " 7830: 62,\n",
       " 3826: 56,\n",
       " 3695: 55,\n",
       " 3620: 50,\n",
       " 7373: 48,\n",
       " 6799: 46,\n",
       " 4412: 43,\n",
       " 4512: 42,\n",
       " 7340: 40,\n",
       " 7370: 39,\n",
       " 900: 39,\n",
       " 6513: 38,\n",
       " 3621: 38,\n",
       " 5172: 36,\n",
       " 4213: 35,\n",
       " 5900: 35,\n",
       " 3990: 34,\n",
       " 5122: 34,\n",
       " 2070: 33,\n",
       " 5944: 33,\n",
       " 8090: 32,\n",
       " 1381: 31,\n",
       " 3312: 31,\n",
       " 4922: 31,\n",
       " 1700: 31,\n",
       " 6324: 30,\n",
       " 8742: 27,\n",
       " 7389: 26,\n",
       " 7812: 25,\n",
       " 8731: 25,\n",
       " 3590: 24,\n",
       " 4955: 23,\n",
       " 3663: 23,\n",
       " 4522: 22,\n",
       " 6321: 21,\n",
       " 3559: 20,\n",
       " 6792: 19,\n",
       " 5812: 19,\n",
       " 6189: 18,\n",
       " 7372: 16,\n",
       " 3841: 14,\n",
       " 1731: 11,\n",
       " 6199: 11,\n",
       " 4911: 8,\n",
       " 4833: 7,\n",
       " 6035: 7,\n",
       " 3571: 6,\n",
       " 2430: 6,\n",
       " 3679: 5,\n",
       " 3674: 5,\n",
       " 3678: 4,\n",
       " 5500: 4,\n",
       " 1531: 4,\n",
       " 4812: 4,\n",
       " 4813: 4,\n",
       " 6411: 3,\n",
       " 3576: 3,\n",
       " 1400: 3,\n",
       " 2800: 3,\n",
       " 3420: 3,\n",
       " 8062: 3,\n",
       " 6770: 2,\n",
       " 2890: 2,\n",
       " 5940: 2,\n",
       " 3845: 2,\n",
       " 5661: 2,\n",
       " 1382: 2,\n",
       " 2111: 2,\n",
       " 3669: 2,\n",
       " 5065: 2,\n",
       " 2810: 2,\n",
       " 8082: 2,\n",
       " 6311: 2,\n",
       " 1221: 2,\n",
       " 1040: 2,\n",
       " 8711: 2,\n",
       " 2870: 2,\n",
       " 6141: 2,\n",
       " 7900: 2,\n",
       " 3690: 2,\n",
       " 3577: 2,\n",
       " 3661: 2,\n",
       " 6099: 1,\n",
       " 2820: 1,\n",
       " 7384: 1,\n",
       " 3827: 1,\n",
       " 100: 1,\n",
       " 2273: 1,\n",
       " 3443: 1,\n",
       " 3537: 1,\n",
       " 7320: 1,\n",
       " 3711: 1,\n",
       " 2780: 1,\n",
       " 2033: 1,\n",
       " 3585: 1,\n",
       " 1623: 1,\n",
       " 3550: 1,\n",
       " 3730: 1,\n",
       " 5160: 1,\n",
       " 3317: 1,\n",
       " 6200: 1,\n",
       " 6036: 1,\n",
       " 7363: 1,\n",
       " 4899: 1,\n",
       " 4924: 1,\n",
       " 2670: 1,\n",
       " 3944: 1,\n",
       " 5960: 1,\n",
       " 2320: 1,\n",
       " 5961: 1,\n",
       " 8051: 1,\n",
       " 2911: 1,\n",
       " 7990: 1,\n",
       " 7350: 1,\n",
       " 2711: 1,\n",
       " 5990: 1,\n",
       " 3721: 1,\n",
       " 2080: 1,\n",
       " 3541: 1,\n",
       " 8093: 1,\n",
       " 3578: 1,\n",
       " 8200: 1,\n",
       " 2750: 1,\n",
       " 2030: 1,\n",
       " 5531: 1,\n",
       " 5731: 1,\n",
       " 3714: 1,\n",
       " 6111: 1,\n",
       " 2842: 1,\n",
       " 2790: 1,\n",
       " 7311: 1,\n",
       " 5651: 1,\n",
       " 3630: 1,\n",
       " 2024: 1,\n",
       " 5030: 1,\n",
       " 7381: 1,\n",
       " 7822: 1,\n",
       " 7361: 1,\n",
       " 6500: 1,\n",
       " 7330: 1,\n",
       " 4941: 1,\n",
       " 5945: 1,\n",
       " 7841: 1,\n",
       " 3490: 1,\n",
       " 3140: 1,\n",
       " 3442: 1,\n",
       " 3672: 1}"
      ]
     },
     "execution_count": 17,
     "metadata": {},
     "output_type": "execute_result"
    }
   ],
   "source": [
    "#Q10\n",
    "files_df = files_df.reset_index()\n",
    "sic_dist = {}\n",
    "for idx in range(len(files_df)):\n",
    "    file = files_df.at[idx,'index']\n",
    "    count = int(files_df.at[idx,'count'])\n",
    "    try:\n",
    "        sic = filings[file].sic\n",
    "        if sic is None:\n",
    "            continue\n",
    "    except:\n",
    "        continue\n",
    "    if sic in sic_dist:\n",
    "        sic_dist[sic] += count\n",
    "    else:\n",
    "        sic_dist[sic] = count\n",
    "dict(sorted(sic_dist.items(), key=lambda x: x[1], reverse=True))"
   ]
  },
  {
   "cell_type": "code",
   "execution_count": 18,
   "id": "7aa58c8f-d438-48a2-ae34-a41c8b19bfaf",
   "metadata": {},
   "outputs": [],
   "source": [
    "#path = '850693/0000850693-07-000159/-index.htm'\n",
    "#path = '1288776/0001652044-16-000012/-index.htm'\n",
    "path = '1556429/0001556429-16-000005/-index.htm'\n",
    "with zipfile.ZipFile(\"docs.zip\") as zf:\n",
    "    f = zf.open(path)\n",
    "    html = f.read().decode(\"utf-8\")\n",
    "    temp = eu.Filing(html)"
   ]
  },
  {
   "cell_type": "code",
   "execution_count": 19,
   "id": "1b84665e-a623-4454-b44b-30b6b072499d",
   "metadata": {},
   "outputs": [
    {
     "data": {
      "text/plain": [
       "['2016-10-04', '2016-10-04', '2016-10-04']"
      ]
     },
     "execution_count": 19,
     "metadata": {},
     "output_type": "execute_result"
    }
   ],
   "source": [
    "temp.dates"
   ]
  },
  {
   "cell_type": "code",
   "execution_count": 20,
   "id": "05c58d4d-ed74-44f2-bf0f-59e02bc01790",
   "metadata": {},
   "outputs": [
    {
     "name": "stdout",
     "output_type": "stream",
     "text": [
      "dates:  ['6429-16-00', '6429-16-00', '2016-10-04', '2016-10-04', '2016-10-04', '6429-16-00', '6429-16-00']\n"
     ]
    },
    {
     "data": {
      "text/plain": [
       "['2016-10-04', '2016-10-04', '2016-10-04']"
      ]
     },
     "execution_count": 20,
     "metadata": {},
     "output_type": "execute_result"
    }
   ],
   "source": [
    "dates = re.findall(r\"\\d{4}-[0-1]{1}[0-9]{1}-\\d{2}\", html)\n",
    "print('dates: ', dates)\n",
    "clean = []\n",
    "for d in dates:\n",
    "    split = d.split('-')\n",
    "    if int(split[0][0:2]) <= 20:\n",
    "        if int(split[1]) <= 12:\n",
    "            clean.append(d)\n",
    "clean"
   ]
  },
  {
   "cell_type": "code",
   "execution_count": 21,
   "id": "e6ac2b4d-a692-4d20-8e6e-a990a61c6dae",
   "metadata": {
    "scrolled": true
   },
   "outputs": [
    {
     "name": "stderr",
     "output_type": "stream",
     "text": [
      "/tmp/ipykernel_28277/2295886766.py:2: UserWarning: Could not infer format, so each element will be parsed individually, falling back to `dateutil`. To ensure parsing is consistent and as-expected, please specify a format.\n",
      "  df['hour'] = pd.to_datetime(df['time']).dt.hour\n"
     ]
    },
    {
     "data": {
      "text/plain": [
       "{9: 11033,\n",
       " 5: 9783,\n",
       " 3: 8850,\n",
       " 2: 8550,\n",
       " 4: 8343,\n",
       " 0: 8305,\n",
       " 8: 8292,\n",
       " 1: 8242,\n",
       " 7: 8213,\n",
       " 6: 7761,\n",
       " 14: 6654,\n",
       " 15: 6512,\n",
       " 17: 6487,\n",
       " 11: 6435,\n",
       " 10: 6377,\n",
       " 18: 6356,\n",
       " 23: 6283,\n",
       " 19: 6211,\n",
       " 21: 6164,\n",
       " 12: 6155,\n",
       " 22: 6098,\n",
       " 20: 6066,\n",
       " 13: 6006,\n",
       " 16: 5680}"
      ]
     },
     "execution_count": 21,
     "metadata": {},
     "output_type": "execute_result"
    }
   ],
   "source": [
    "#Q11\n",
    "df['hour'] = pd.to_datetime(df['time']).dt.hour\n",
    "df['hour'].value_counts().to_dict()"
   ]
  },
  {
   "cell_type": "code",
   "execution_count": 22,
   "id": "50ac69bf-94be-40ea-a840-8903e4f9ff39",
   "metadata": {},
   "outputs": [],
   "source": [
    "def conv_state(file):\n",
    "    try:\n",
    "        return filings[file].state()\n",
    "    except:\n",
    "        return 'blank'"
   ]
  },
  {
   "cell_type": "code",
   "execution_count": 23,
   "id": "40861beb-41fd-4c5e-b10b-09bbfa9255cc",
   "metadata": {},
   "outputs": [
    {
     "data": {
      "image/svg+xml": [
       "<?xml version=\"1.0\" encoding=\"UTF-8\" standalone=\"no\"?>\n",
       "<!DOCTYPE svg PUBLIC \"-//W3C//DTD SVG 1.1//EN\"\n",
       " \"http://www.w3.org/Graphics/SVG/1.1/DTD/svg11.dtd\">\n",
       "<!-- Generated by graphviz version 2.43.0 (0)\n",
       " -->\n",
       "<!-- Title: %3 Pages: 1 -->\n",
       "<svg width=\"544pt\" height=\"441pt\"\n",
       " viewBox=\"0.00 0.00 544.46 440.75\" xmlns=\"http://www.w3.org/2000/svg\" xmlns:xlink=\"http://www.w3.org/1999/xlink\">\n",
       "<g id=\"graph0\" class=\"graph\" transform=\"scale(1 1) rotate(0) translate(4 436.75)\">\n",
       "<title>%3</title>\n",
       "<polygon fill=\"white\" stroke=\"transparent\" points=\"-4,4 -4,-436.75 540.46,-436.75 540.46,4 -4,4\"/>\n",
       "<!-- France -->\n",
       "<g id=\"node1\" class=\"node\">\n",
       "<title>France</title>\n",
       "<ellipse fill=\"none\" stroke=\"black\" cx=\"321.89\" cy=\"-110.6\" rx=\"42.79\" ry=\"18\"/>\n",
       "<text text-anchor=\"middle\" x=\"321.89\" y=\"-106.9\" font-family=\"Times,serif\" font-size=\"14.00\">France</text>\n",
       "</g>\n",
       "<!-- NJ -->\n",
       "<g id=\"node2\" class=\"node\">\n",
       "<title>NJ</title>\n",
       "<ellipse fill=\"none\" stroke=\"black\" cx=\"383.96\" cy=\"-18\" rx=\"27\" ry=\"18\"/>\n",
       "<text text-anchor=\"middle\" x=\"383.96\" y=\"-14.3\" font-family=\"Times,serif\" font-size=\"14.00\">NJ</text>\n",
       "</g>\n",
       "<!-- France&#45;&gt;NJ -->\n",
       "<g id=\"edge1\" class=\"edge\">\n",
       "<title>France&#45;&gt;NJ</title>\n",
       "<path fill=\"none\" stroke=\"black\" d=\"M333.57,-93.18C343.05,-79.04 356.54,-58.9 367.18,-43.03\"/>\n",
       "<polygon fill=\"black\" stroke=\"black\" points=\"370.09,-44.97 372.76,-34.72 364.28,-41.07 370.09,-44.97\"/>\n",
       "</g>\n",
       "<!-- CA -->\n",
       "<g id=\"node3\" class=\"node\">\n",
       "<title>CA</title>\n",
       "<ellipse fill=\"none\" stroke=\"black\" cx=\"256.78\" cy=\"-209.96\" rx=\"27\" ry=\"18\"/>\n",
       "<text text-anchor=\"middle\" x=\"256.78\" y=\"-206.26\" font-family=\"Times,serif\" font-size=\"14.00\">CA</text>\n",
       "</g>\n",
       "<!-- France&#45;&gt;CA -->\n",
       "<g id=\"edge2\" class=\"edge\">\n",
       "<title>France&#45;&gt;CA</title>\n",
       "<path fill=\"none\" stroke=\"black\" d=\"M310.25,-128.36C299.97,-144.05 284.87,-167.1 273.33,-184.7\"/>\n",
       "<polygon fill=\"black\" stroke=\"black\" points=\"270.22,-183.06 267.67,-193.34 276.08,-186.89 270.22,-183.06\"/>\n",
       "</g>\n",
       "<!-- Australia -->\n",
       "<g id=\"node4\" class=\"node\">\n",
       "<title>Australia</title>\n",
       "<ellipse fill=\"none\" stroke=\"black\" cx=\"402.65\" cy=\"-208.96\" rx=\"52.79\" ry=\"18\"/>\n",
       "<text text-anchor=\"middle\" x=\"402.65\" y=\"-205.26\" font-family=\"Times,serif\" font-size=\"14.00\">Australia</text>\n",
       "</g>\n",
       "<!-- NY -->\n",
       "<g id=\"node5\" class=\"node\">\n",
       "<title>NY</title>\n",
       "<ellipse fill=\"none\" stroke=\"black\" cx=\"509.46\" cy=\"-193\" rx=\"27\" ry=\"18\"/>\n",
       "<text text-anchor=\"middle\" x=\"509.46\" y=\"-189.3\" font-family=\"Times,serif\" font-size=\"14.00\">NY</text>\n",
       "</g>\n",
       "<!-- Australia&#45;&gt;NY -->\n",
       "<g id=\"edge3\" class=\"edge\">\n",
       "<title>Australia&#45;&gt;NY</title>\n",
       "<path fill=\"none\" stroke=\"black\" d=\"M451.05,-201.73C458.4,-200.63 465.87,-199.51 472.9,-198.46\"/>\n",
       "<polygon fill=\"black\" stroke=\"black\" points=\"473.46,-201.92 482.83,-196.98 472.43,-194.99 473.46,-201.92\"/>\n",
       "</g>\n",
       "<!-- Indonesia -->\n",
       "<g id=\"node6\" class=\"node\">\n",
       "<title>Indonesia</title>\n",
       "<ellipse fill=\"none\" stroke=\"black\" cx=\"310.05\" cy=\"-316.11\" rx=\"55.79\" ry=\"18\"/>\n",
       "<text text-anchor=\"middle\" x=\"310.05\" y=\"-312.41\" font-family=\"Times,serif\" font-size=\"14.00\">Indonesia</text>\n",
       "</g>\n",
       "<!-- Indonesia&#45;&gt;CA -->\n",
       "<g id=\"edge5\" class=\"edge\">\n",
       "<title>Indonesia&#45;&gt;CA</title>\n",
       "<path fill=\"none\" stroke=\"black\" d=\"M301.01,-298.1C292.53,-281.2 279.74,-255.71 270.09,-236.48\"/>\n",
       "<polygon fill=\"black\" stroke=\"black\" points=\"273.12,-234.71 265.51,-227.35 266.86,-237.85 273.12,-234.71\"/>\n",
       "</g>\n",
       "<!-- MA -->\n",
       "<g id=\"node7\" class=\"node\">\n",
       "<title>MA</title>\n",
       "<ellipse fill=\"none\" stroke=\"black\" cx=\"361.92\" cy=\"-414.75\" rx=\"27\" ry=\"18\"/>\n",
       "<text text-anchor=\"middle\" x=\"361.92\" y=\"-411.05\" font-family=\"Times,serif\" font-size=\"14.00\">MA</text>\n",
       "</g>\n",
       "<!-- Indonesia&#45;&gt;MA -->\n",
       "<g id=\"edge4\" class=\"edge\">\n",
       "<title>Indonesia&#45;&gt;MA</title>\n",
       "<path fill=\"none\" stroke=\"black\" d=\"M319.56,-334.2C327.61,-349.5 339.23,-371.61 348.27,-388.8\"/>\n",
       "<polygon fill=\"black\" stroke=\"black\" points=\"345.23,-390.54 352.98,-397.76 351.43,-387.28 345.23,-390.54\"/>\n",
       "</g>\n",
       "<!-- Viet Nam -->\n",
       "<g id=\"node8\" class=\"node\">\n",
       "<title>Viet Nam</title>\n",
       "<ellipse fill=\"none\" stroke=\"black\" cx=\"138.21\" cy=\"-203.32\" rx=\"53.89\" ry=\"18\"/>\n",
       "<text text-anchor=\"middle\" x=\"138.21\" y=\"-199.62\" font-family=\"Times,serif\" font-size=\"14.00\">Viet Nam</text>\n",
       "</g>\n",
       "<!-- Viet Nam&#45;&gt;CA -->\n",
       "<g id=\"edge6\" class=\"edge\">\n",
       "<title>Viet Nam&#45;&gt;CA</title>\n",
       "<path fill=\"none\" stroke=\"black\" d=\"M191.6,-206.31C201.05,-206.84 210.71,-207.38 219.59,-207.87\"/>\n",
       "<polygon fill=\"black\" stroke=\"black\" points=\"219.43,-211.37 229.61,-208.43 219.82,-204.38 219.43,-211.37\"/>\n",
       "</g>\n",
       "<!-- VA -->\n",
       "<g id=\"node9\" class=\"node\">\n",
       "<title>VA</title>\n",
       "<ellipse fill=\"none\" stroke=\"black\" cx=\"27\" cy=\"-195.18\" rx=\"27\" ry=\"18\"/>\n",
       "<text text-anchor=\"middle\" x=\"27\" y=\"-191.48\" font-family=\"Times,serif\" font-size=\"14.00\">VA</text>\n",
       "</g>\n",
       "<!-- Viet Nam&#45;&gt;VA -->\n",
       "<g id=\"edge7\" class=\"edge\">\n",
       "<title>Viet Nam&#45;&gt;VA</title>\n",
       "<path fill=\"none\" stroke=\"black\" d=\"M85.21,-199.44C78.09,-198.92 70.91,-198.39 64.14,-197.9\"/>\n",
       "<polygon fill=\"black\" stroke=\"black\" points=\"64.14,-194.39 53.91,-197.15 63.63,-201.37 64.14,-194.39\"/>\n",
       "</g>\n",
       "</g>\n",
       "</svg>\n"
      ],
      "text/plain": [
       "<graphviz.graphs.Digraph at 0x70710514bbe0>"
      ]
     },
     "execution_count": 23,
     "metadata": {},
     "output_type": "execute_result"
    }
   ],
   "source": [
    "#Q12\n",
    "dg_df = pd.DataFrame()\n",
    "dg_df['region'] = df['ip'].apply(eu.lookup_region)\n",
    "dg_df['file'] = df[['cik', 'accession', 'extention']].astype('str').agg('/'.join, axis=1)\n",
    "dg_df = dg_df[dg_df['region'].isin([\"Australia\", \"France\", \"Indonesia\", \"Viet Nam\"])]\n",
    "dg_df['file'] = dg_df['file'].apply(conv_state)\n",
    "dg_df = dg_df[dg_df['file'] != 'blank']\n",
    "dg_df.drop(103284, axis=0, inplace=True)\n",
    "dg_df = dg_df.reset_index()\n",
    "\n",
    "g = Digraph(engine='neato')\n",
    "for idx in range(len(dg_df)):\n",
    "    reg = dg_df.at[idx, 'region']\n",
    "    st = dg_df.at[idx, 'file']\n",
    "    g.edge(reg, st, len='1.5')\n",
    "g"
   ]
  },
  {
   "cell_type": "code",
   "execution_count": null,
   "id": "bc8f336a-57d9-4685-b7f6-1737713d425d",
   "metadata": {},
   "outputs": [],
   "source": []
  }
 ],
 "metadata": {
  "kernelspec": {
   "display_name": "Python 3 (ipykernel)",
   "language": "python",
   "name": "python3"
  },
  "language_info": {
   "codemirror_mode": {
    "name": "ipython",
    "version": 3
   },
   "file_extension": ".py",
   "mimetype": "text/x-python",
   "name": "python",
   "nbconvert_exporter": "python",
   "pygments_lexer": "ipython3",
   "version": "3.10.12"
  }
 },
 "nbformat": 4,
 "nbformat_minor": 5
}
