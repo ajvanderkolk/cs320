{
 "cells": [
  {
   "cell_type": "code",
   "execution_count": null,
   "id": "5f8b136d-154c-465b-bf0e-da1e2a6c5064",
   "metadata": {},
   "outputs": [],
   "source": [
    "%load_ext autoreload\n",
    "%autoreload 2\n",
    "\n",
    "import pandas as pd\n",
    "import scrape\n",
    "from collections import deque\n",
    "from selenium.webdriver.chrome.options import Options\n",
    "from selenium import webdriver\n",
    "import os"
   ]
  },
  {
   "cell_type": "code",
   "execution_count": null,
   "id": "85f45d6b-eae8-4928-8183-624957d15ed8",
   "metadata": {},
   "outputs": [],
   "source": [
    "# Part 1\n",
    "# GraphSearcher and DFS on Matrices"
   ]
  },
  {
   "cell_type": "code",
   "execution_count": null,
   "id": "9969add1-14a1-4d52-8502-7530640a5ccb",
   "metadata": {},
   "outputs": [],
   "source": [
    "# GraphSearcher\n",
    "#g = scrape.GraphSearcher()\n",
    "#g.dfs_search(\"A\") # should error out."
   ]
  },
  {
   "cell_type": "code",
   "execution_count": null,
   "id": "6118ee1d-763b-4770-9259-1cf66cedfbd8",
   "metadata": {},
   "outputs": [],
   "source": [
    "# Matrix Format\n",
    "df = pd.DataFrame([\n",
    "    [0,1,0,1],\n",
    "    [0,0,1,0],\n",
    "    [0,0,0,1],\n",
    "    [0,0,1,0],\n",
    "], index=[\"A\", \"B\", \"C\", \"D\"], columns=[\"A\", \"B\", \"C\", \"D\"])\n",
    "df"
   ]
  },
  {
   "cell_type": "code",
   "execution_count": null,
   "id": "22c169ab-6e9d-4e85-8731-2d5841ce0e1a",
   "metadata": {},
   "outputs": [],
   "source": [
    "# print children of node 'B'\n",
    "for node, has_edge in df.loc['B'].items():\n",
    "    if has_edge:\n",
    "        print(node)"
   ]
  },
  {
   "cell_type": "code",
   "execution_count": null,
   "id": "d1375d8f-dc76-48b1-a520-4e727bb1fcd1",
   "metadata": {},
   "outputs": [],
   "source": [
    "# m.dfs_search('A') m.order should be a,b,c,d\n",
    "m = scrape.MatrixSearcher(df)\n",
    "for node in ['A','B','C','D']:\n",
    "    m.dfs_search(node)\n",
    "    print(m.order)"
   ]
  },
  {
   "cell_type": "code",
   "execution_count": null,
   "id": "98a362e9-e726-466e-b50a-8286ff655f03",
   "metadata": {},
   "outputs": [],
   "source": [
    "# Part 2\n",
    "# m.bfs_search('A') m.order should be a,b,d,c\n",
    "mm = scrape.MatrixSearcher(df)\n",
    "for node in ['A','B','C','D']:\n",
    "    mm.bfs_search(node)\n",
    "    print(mm.order)"
   ]
  },
  {
   "cell_type": "code",
   "execution_count": null,
   "id": "e099314a-f0a8-4833-8996-1a2595a24949",
   "metadata": {},
   "outputs": [],
   "source": [
    "# move file_nodes contents into mp3 folder first.\n",
    "#fs = scrape.FileSearcher()\n",
    "#print(fs.visit_and_get_children(\"1.txt\"), fs.order, fs.concat_order())"
   ]
  },
  {
   "cell_type": "code",
   "execution_count": null,
   "id": "0cbcb7d1-277f-4eb5-9f74-d9a4c426718f",
   "metadata": {},
   "outputs": [],
   "source": [
    "#for i in range(1,8):\n",
    "#    #print(fs.visit_and_get_children(f\"{i}.txt\"), fs.concat_order())\n",
    "#    fs.dfs_search(f'{i}.txt')\n",
    "#    print(f'{i}.txt order: {fs.order}') #,end='\\n\\n')"
   ]
  },
  {
   "cell_type": "code",
   "execution_count": null,
   "id": "8b6d2e17-888f-4424-9d3f-2d7fe061c34b",
   "metadata": {},
   "outputs": [],
   "source": [
    "#for i in range(1,8):\n",
    "#    fs.bfs_search(f'{i}.txt')\n",
    "#    print(f'{i}.txt order: {fs.order}')\n",
    "#fs.bfs_search(\"1.txt\")\n",
    "#print(fs.concat_order())"
   ]
  },
  {
   "cell_type": "code",
   "execution_count": null,
   "id": "c1b5cb20-9575-4880-9e14-c648c598606a",
   "metadata": {},
   "outputs": [],
   "source": [
    "# Part 3\n",
    "# Web Crawling - Selenium"
   ]
  },
  {
   "cell_type": "code",
   "execution_count": null,
   "id": "d51702d9-8e16-4f0d-9c30-b42f3517dacc",
   "metadata": {},
   "outputs": [],
   "source": [
    "import os\n",
    "# kill previous chrome instance if still around (to conserve memory)\n",
    "os.system(\"pkill -f -9 chromium\")\n",
    "\n",
    "options = Options()\n",
    "# Run in headless mode (info: https://www.browserstack.com/guide/what-is-headless-browser-testing)\n",
    "options.add_argument(\"--headless=new\")\n",
    "driver = webdriver.Chrome(options=options)\n",
    "\n",
    "# TODO: fill the value of VM_IP as your VMs IP address\n",
    "# start_url = driver.find_element(\"id\", \"maze-entrance\").get_attribute(\"href\")\n",
    "VM_IP = '34.42.19.16'\n",
    "start_url = f\"http://{VM_IP}:5000/Node_1.html\"\n",
    "\n",
    "s = scrape.WebSearcher(driver)\n",
    "print(s.visit_and_get_children(start_url))\n",
    "\n",
    "s = scrape.WebSearcher(driver)\n",
    "s.bfs_search(start_url)\n",
    "\n",
    "print(s.table())\n",
    "\n",
    "#print(s.order)\n",
    "#display(s.table())\n",
    "\n",
    "driver.close()"
   ]
  },
  {
   "cell_type": "code",
   "execution_count": null,
   "id": "2cc4356a-cfaa-45f8-ad01-9276f6d5071e",
   "metadata": {},
   "outputs": [],
   "source": [
    "# Part 4\n",
    "x = s.table()"
   ]
  },
  {
   "cell_type": "code",
   "execution_count": null,
   "id": "7fc51741-054f-4db0-b800-18d920fb6a39",
   "metadata": {},
   "outputs": [],
   "source": [
    "#from IPython.display import display, Image"
   ]
  },
  {
   "cell_type": "code",
   "execution_count": null,
   "id": "a254fd5b-25ba-46e0-b52b-bfd275960109",
   "metadata": {},
   "outputs": [],
   "source": [
    "options = Options()\n",
    "# Run in headless mode (info: https://www.browserstack.com/guide/what-is-headless-browser-testing)\n",
    "options.add_argument(\"--headless=new\")\n",
    "driver = webdriver.Chrome(options=options)\n",
    "url = \"http://34.42.19.16:5000\"\n",
    "\n",
    "print(scrape.reveal_secrets(driver, url, x))\n",
    "#display(Image(filename=\"Current_Location.png\"))\n",
    "\n",
    "driver.close()\n",
    "os.system(\"pkill -f -9 chromium\")"
   ]
  },
  {
   "cell_type": "code",
   "execution_count": null,
   "id": "29d40252-3bf4-4ff9-aff4-cd99ec7e5c29",
   "metadata": {},
   "outputs": [],
   "source": [
    "#os.chdir(\"/home/ajv03/cs320/mp3/\")\n",
    "print(\"Current working directory:\", os.getcwd())"
   ]
  },
  {
   "cell_type": "code",
   "execution_count": null,
   "id": "17e3fa73-84f1-472c-b2d9-15bcb05fbcb4",
   "metadata": {},
   "outputs": [],
   "source": []
  }
 ],
 "metadata": {
  "kernelspec": {
   "display_name": "Python 3 (ipykernel)",
   "language": "python",
   "name": "python3"
  },
  "language_info": {
   "codemirror_mode": {
    "name": "ipython",
    "version": 3
   },
   "file_extension": ".py",
   "mimetype": "text/x-python",
   "name": "python",
   "nbconvert_exporter": "python",
   "pygments_lexer": "ipython3",
   "version": "3.10.12"
  }
 },
 "nbformat": 4,
 "nbformat_minor": 5
}
